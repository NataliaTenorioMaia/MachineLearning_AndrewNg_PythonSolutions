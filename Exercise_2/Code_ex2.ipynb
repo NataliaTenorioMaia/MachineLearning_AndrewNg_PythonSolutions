{
 "cells": [
  {
   "cell_type": "markdown",
   "metadata": {},
   "source": [
    "# Programming Exercise 2: Logistic Regression\n",
    "*Code's author: Natália Tenório Maia*<br>\n",
    "*Solution for [Exercise 2](https://www.coursera.org/learn/machine-learning/home/week/3) of Coursera's Machine Learning course by Andrew Ng.*\n",
    "<br>\n",
    "<br>\n",
    "There are many different ways to solve this exercise. Here you will learn just one possible way, where I tried to stick with the original idea proposed in the exercise's pdf.\n",
    "<br>\n",
    "<br>\n",
    "In this exercise, we will implement logistic regression and apply it to two different datasets.\n",
    "\n",
    "## Part 1 - Logistic regression\n",
    "In this part of the exercise, you will build a logistic regression model to predict whether a student gets admitted into a university.\n",
    "Suppose that you are the administrator of a university department and you want to determine each applicant’s chance of admission based on their results on two exams. You have historical data from previous applicants that you can use as a training set for logistic regression. For each training example, you have the applicant’s scores on two exams and the admissions decision. <br>\n",
    "**Goal:** Your task is to build a classification model that estimates an applicant’s probability of admission based on the scores from those two exams.\n",
    "<br>\n",
    "Steps:<br>\n",
    "1 - Import data; <br>\n",
    "2 - Visualize data;<br>\n",
    "3 - Implement the sigmoid and the cost function;<br>\n",
    "4 - Fit parameters; <br>\n",
    "5 - Make prediction.<br>\n",
    "### Importing data"
   ]
  },
  {
   "cell_type": "code",
   "execution_count": 1,
   "metadata": {},
   "outputs": [],
   "source": [
    "import numpy as np               # package for scientific computing\n",
    "import matplotlib.pyplot as plt  # plotting library\n",
    "from scipy import optimize       # package for optimizing functions"
   ]
  },
  {
   "cell_type": "code",
   "execution_count": 2,
   "metadata": {},
   "outputs": [],
   "source": [
    "# Loading dataset:\n",
    "dataset = np.loadtxt('ex2data1.txt', delimiter=',')\n",
    "\n",
    "m = len(dataset)                                      # number of examples\n",
    "X = np.append(np.ones((m,1)), dataset[:,:2], axis=1)  # training input mx3 matrix\n",
    "y = dataset[:,2].reshape(-1,1)                        # training output mx1 vector"
   ]
  },
  {
   "cell_type": "markdown",
   "metadata": {},
   "source": [
    "### Visualizing data\n",
    "\n",
    "Let's split the whole dataset into two subgroups: those who got admitted and those who got rejected. This will allow for a better visualization of the training dataset, as shown below."
   ]
  },
  {
   "cell_type": "code",
   "execution_count": 3,
   "metadata": {},
   "outputs": [
    {
     "data": {
      "image/png": "[encoded data removed]",
      "text/plain": [
       "<Figure size 432x288 with 1 Axes>"
      ]
     },
     "metadata": {
      "needs_background": "light"
     },
     "output_type": "display_data"
    }
   ],
   "source": [
    "admissions = dataset[dataset[:,2]==1]; rejections = dataset[dataset[:,2]==0]\n",
    "ax = plt.subplot()\n",
    "plt.plot(admissions[:,0],admissions[:,1],'x',label='Admission')\n",
    "plt.plot(rejections[:,0],rejections[:,1],'o',label='Rejection')\n",
    "plt.title('Scores'); plt.xlabel('Exam 1'); plt.ylabel('Exam 2')\n",
    "plt.legend(bbox_to_anchor=(1.05, 1.0), loc='upper left')\n",
    "ax.set_xticks(np.arange(30,110,10));ax.set_yticks(np.arange(30,110,10))\n",
    "plt.gca().set_aspect('equal', adjustable='box')"
   ]
  },
  {
   "cell_type": "markdown",
   "metadata": {},
   "source": [
    "### Implementing functions\n",
    "\n",
    "The logistic regression hypothesis is given by <br>\n",
    "$$\n",
    "h_{\\theta}=g\\left(X\\theta\\right)\n",
    "$$ <br>\n",
    "where $g$ is the sigmoid function <br>\n",
    "$$\n",
    "g\\left(X\\theta\\right)=\\frac{1}{1+e^{-X\\theta}}.\n",
    "$$<br>\n",
    "The logistic regression cost function and its gradient are <br>\n",
    "$$\n",
    "J\\left(\\theta\\right)=-\\frac{1}{m}\\sum_{i=1}^{m}\\left[y^{(i)}log\\left(h_{\\theta}\\left(x^{(i)}\\right)\\right)+\\left(1-y^{(i)}\\right)log\\left(1-h_{\\theta}\\left(x^{(i)}\\right)\\right)\\right],\n",
    "$$\n",
    "$$\n",
    "\\theta_{j}=\\theta_{j}-\\frac{\\alpha}{m}\\sum_{i=1}^{m}\\left(h_{\\theta}\\left(x^{\\left(i\\right)}\\right)-y^{\\left(i\\right)}\\right)x_{j}^{\\left(i\\right)},\n",
    "$$\n",
    "\n",
    "with $j=0,...,k$, where $k$ is the number of features, and with $\\alpha$ being the learning rate. In the **vectorized format**, which is the one we use in this notebook, they are given as follows:\n",
    "$$\n",
    "J\\left(\\theta\\right)=-\\frac{1}{m}\\left[y^{T}log\\left(h_{\\theta}\\right)+\\left(1-y^{T}\\right)log\\left(1-h_{\\theta}\\right)\\right],\n",
    "$$\n",
    "\n",
    "$$\n",
    "\\theta=\\theta-\\frac{\\alpha}{m}X^{T}\\left(h_{\\theta}-y\\right).\n",
    "$$"
   ]
  },
  {
   "cell_type": "code",
   "execution_count": 4,
   "metadata": {},
   "outputs": [],
   "source": [
    "# Simplified matrix multiplication command:\n",
    "def MM(A,B):\n",
    "    return np.matmul(A,B)\n",
    "    \n",
    "# Logistic regression hypothesis or sigmoid function:\n",
    "def sigmoid(theta,X):\n",
    "    theta = theta.reshape(-1,1)\n",
    "    return 1/(1+np.exp(-MM(X,theta)))\n",
    "\n",
    "# Cost function:\n",
    "def costfunction(theta,X,y):\n",
    "    theta = theta.reshape(-1,1)\n",
    "    h = 1/(1+np.exp(-MM(X,theta)))\n",
    "    J = -(1/m)*(MM(y.T,np.log(h))+MM((1-y.T),np.log(1-h)))\n",
    "    grad = ((1/m)*MM((X.T),(h-y))).flatten()\n",
    "    return float(J), grad"
   ]
  },
  {
   "cell_type": "markdown",
   "metadata": {},
   "source": [
    "Let's now perform the test proposed in the file ex2.m. The results below agree with those presented in that file:"
   ]
  },
  {
   "cell_type": "code",
   "execution_count": 5,
   "metadata": {},
   "outputs": [
    {
     "name": "stdout",
     "output_type": "stream",
     "text": [
      "First check:\n",
      "0.6931471805599452\n",
      "[ -0.1        -12.00921659 -11.26284221]\n",
      "Second check:\n",
      "0.2183301938265977\n",
      "[0.04290299 2.56623412 2.64679737]\n"
     ]
    }
   ],
   "source": [
    "print(\"First check:\");\n",
    "theta = np.zeros(X.shape[1]); J, grad = costfunction(theta,X,y); print(J); print(grad[:5])\n",
    "print(\"Second check:\");\n",
    "#theta = np.array([[-24],[0.2],[0.2]]); print(J(theta,X,y)[0]); print(J(theta,X,y)[1][:5])\n",
    "theta = np.array([-24,0.2,0.2]); J, grad = costfunction(theta,X,y); print(J); print(grad[:5])"
   ]
  },
  {
   "cell_type": "markdown",
   "metadata": {},
   "source": [
    "### Learning parameters using scipy.optimize\n",
    "\n",
    "We want to optimize the parameters $\\theta$ in order to minimize the cost function $J(\\theta)$.\n",
    "\n",
    "SciPy optimize provides functions for minimizing (or maximizing) objective functions, possibly subject to constraints.<br>\n",
    "Lib: https://docs.scipy.org/doc/scipy/reference/generated/scipy.optimize.minimize.html\n",
    "\n",
    "scipy.optimize.minimize(fun, x0, args=(), method=None, jac=None, hess=None, hessp=None, bounds=None, constraints=(), tol=None, callback=None, options=None) <br>\n",
    "We will give the following arguments: <br>\n",
    "* fun: the function costfunction we defined above;\n",
    "* x0: the array for the initial values of $\\theta$ has to be given in the format (n,);\n",
    "* args: additional variables of the costfunction, which in this case is the training dataset X,y;\n",
    "* method: the two different optimizing methods which work well for this costfunction are 'TNC' and ’Nelder-Mead’;\n",
    "* jac: this is True if our cost function provides its gradient, None if not;\n",
    "* options: we don't have to give options necessarily, but we will limit the maximum number of iterations anyway just to make sure we get the result quickly.\n",
    "\n",
    "OBS: The method=’Nelder-Mead’ works well and does not require defining the gradient of the cost function. But in fact, it will only work if the function costfunction returns a single value: the cost function. However, as we already defined the costfunction as a function returning two values, i.e. the cost and its gradient, we will choose method='TNC', which will enable us to set jac=True when using our costfunction in optimize.minimize(), as shown below."
   ]
  },
  {
   "cell_type": "code",
   "execution_count": 6,
   "metadata": {},
   "outputs": [
    {
     "data": {
      "text/plain": [
       "(0.2034977015894742, array([-25.1613187 ,   0.20623159,   0.20147149]))"
      ]
     },
     "execution_count": 6,
     "metadata": {},
     "output_type": "execute_result"
    }
   ],
   "source": [
    "# Initial theta:\n",
    "initial_theta = np.zeros((X.shape[1]))\n",
    "\n",
    "# Optimizing function:\n",
    "optmin = optimize.minimize(costfunction,initial_theta,(X,y),jac=True,method='TNC',options={'maxiter': 100})\n",
    "\n",
    "J = optmin.fun\n",
    "theta = optmin.x\n",
    "J, theta"
   ]
  },
  {
   "cell_type": "markdown",
   "metadata": {},
   "source": [
    "The results above agree with those in the file ex2.m ."
   ]
  },
  {
   "cell_type": "markdown",
   "metadata": {},
   "source": [
    "### Prediction\n",
    "Now that everything looks good, let's predict whether a particular student will be admitted or not. For a student with an Exam 1 score of 45 and an Exam 2 score of 85, let's predict what is the admission probability:"
   ]
  },
  {
   "cell_type": "code",
   "execution_count": 7,
   "metadata": {},
   "outputs": [
    {
     "data": {
      "text/plain": [
       "array([[0.77629062]])"
      ]
     },
     "execution_count": 7,
     "metadata": {},
     "output_type": "execute_result"
    }
   ],
   "source": [
    "Xnew = np.array([[1,45,85]])\n",
    "Prob = sigmoid(theta,Xnew)\n",
    "Prob"
   ]
  },
  {
   "cell_type": "markdown",
   "metadata": {},
   "source": [
    "The result above tells us that this student has 77.6% chance of being admitted in the university. This is in accordance with exercise's sheet, ex2.pdf. <br>\n",
    "\n",
    "A way to evaluate the quality of the parameters we have found is to see how well the learned model predicts on our training set.\n",
    "\n",
    "Our prediction, however, must be specific: it must say wheter students gets admitted or not. We follow this convention: 1 for admission (chances higher or equal to 50%), 0 for rejection (chances bellow 50%). Thus, instead of generating a column vector whose entries are probabilities, let's now write a vector whose entries are predictions:"
   ]
  },
  {
   "cell_type": "code",
   "execution_count": 8,
   "metadata": {},
   "outputs": [
    {
     "data": {
      "text/plain": [
       "array([[0],\n",
       "       [0],\n",
       "       [0],\n",
       "       [1]])"
      ]
     },
     "execution_count": 8,
     "metadata": {},
     "output_type": "execute_result"
    }
   ],
   "source": [
    "# Let's see how well we are predicting the values of y that we use to train the model:\n",
    "def prediction(theta,X):\n",
    "    pred = np.array([1 if i>=0.5 else 0 for i in sigmoid(theta,X)]).reshape(-1,1)\n",
    "    return pred\n",
    "p = prediction(theta,X)\n",
    "p[:4]"
   ]
  },
  {
   "cell_type": "code",
   "execution_count": 9,
   "metadata": {},
   "outputs": [
    {
     "data": {
      "text/plain": [
       "0.89"
      ]
     },
     "execution_count": 9,
     "metadata": {},
     "output_type": "execute_result"
    }
   ],
   "source": [
    "# Accuracy score:\n",
    "np.mean(p == y)"
   ]
  },
  {
   "cell_type": "code",
   "execution_count": 10,
   "metadata": {},
   "outputs": [
    {
     "data": {
      "text/plain": [
       "0.89"
      ]
     },
     "execution_count": 10,
     "metadata": {},
     "output_type": "execute_result"
    }
   ],
   "source": [
    "# Alternatively, we could have used this other command:\n",
    "from sklearn.metrics import accuracy_score\n",
    "accuracy_score(p,y)"
   ]
  },
  {
   "cell_type": "code",
   "execution_count": 11,
   "metadata": {},
   "outputs": [
    {
     "data": {
      "image/png": "[encoded data removed]",
      "text/plain": [
       "<Figure size 432x288 with 1 Axes>"
      ]
     },
     "metadata": {
      "needs_background": "light"
     },
     "output_type": "display_data"
    }
   ],
   "source": [
    "# Now let's plot the decision boundary:\n",
    "ax = plt.subplot()\n",
    "plt.plot(admissions[:,0],admissions[:,1],'x',label='Admission')\n",
    "plt.plot(rejections[:,0],rejections[:,1],'o',label='Rejection')\n",
    "plt.title('Decision boundary'); plt.xlabel('Exam 1 score'); plt.ylabel('Exam 2 score')\n",
    "plt.legend(bbox_to_anchor=(1.05, 1.0), loc='upper left')\n",
    "ax.set_xticks(np.arange(30,110,10));ax.set_yticks(np.arange(30,110,10))\n",
    "plt.gca().set_aspect('equal', adjustable='box')\n",
    "\n",
    "x1 = np.linspace(X[:,1].min(),X[:,1].max(),50); x2=x1; z = np.zeros((len(x1),len(x2)))\n",
    "for i in range(len(x1)):\n",
    "    for j in range(len(x2)):\n",
    "        x = np.array([[1,x1[i],x2[j]]])\n",
    "        z[i,j] = MM(x,theta)\n",
    "plt.contour(x1, x2, z.T, levels=[0]);                                         "
   ]
  },
  {
   "cell_type": "markdown",
   "metadata": {},
   "source": [
    "## Part 2 - Regularized logistic regression\n",
    "\n",
    "In this part of the exercise, you will implement regularized logistic regression to predict whether microchips from a fabrication plant passes quality assurance (QA). During QA, each microchip goes through various tests to ensure it is functioning correctly.<br>\n",
    "Suppose you are the product manager of the factory and you have the test results for some microchips on two different tests. <br>\n",
    "**Goal:** From these two tests, you would like to determine whether the microchips should be accepted or rejected. \n",
    "### Importing data"
   ]
  },
  {
   "cell_type": "code",
   "execution_count": 12,
   "metadata": {},
   "outputs": [
    {
     "data": {
      "text/plain": [
       "array([[ 0.051267,  0.69956 ,  1.      ],\n",
       "       [-0.092742,  0.68494 ,  1.      ]])"
      ]
     },
     "execution_count": 12,
     "metadata": {},
     "output_type": "execute_result"
    }
   ],
   "source": [
    "dataset2 = np.loadtxt('ex2data2.txt',delimiter=',')\n",
    "dataset2[:2,:]"
   ]
  },
  {
   "cell_type": "code",
   "execution_count": 13,
   "metadata": {},
   "outputs": [],
   "source": [
    "m = len(dataset2)\n",
    "X = dataset2[:,:2] # Let's not add the x0 column yet. We'll do this later.\n",
    "y = dataset2[:,2].reshape(-1,1)"
   ]
  },
  {
   "cell_type": "markdown",
   "metadata": {},
   "source": [
    "This dataset seems already normalized, so we don't need to worry about performing feature scaling.\n",
    "### Visualizing data"
   ]
  },
  {
   "cell_type": "code",
   "execution_count": 14,
   "metadata": {},
   "outputs": [
    {
     "data": {
      "image/png": "[encoded data removed]",
      "text/plain": [
       "<Figure size 432x288 with 1 Axes>"
      ]
     },
     "metadata": {
      "needs_background": "light"
     },
     "output_type": "display_data"
    }
   ],
   "source": [
    "# In order to have a meaninful plot, let divide the data into\n",
    "# two subgroups: good chips and defective chips.\n",
    "def PlotData():\n",
    "    Good = dataset2[dataset2[:,2]==1]\n",
    "    Defect = dataset2[dataset2[:,2]==0]\n",
    "    ax = plt.subplot()\n",
    "    plt.plot(Good[:,0],Good[:,1],'x',label='Accepted')\n",
    "    plt.plot(Defect[:,0],Defect[:,1],'o',label='Rejected')\n",
    "    plt.title(\"QA test results\"); plt.xlabel(\"Test 1\"); plt.ylabel(\"Test 2\");\n",
    "    plt.legend(bbox_to_anchor=(1.05, 1.0), loc='upper left'); plt.gca().set_aspect('equal', adjustable='box');\n",
    "    ax.set_xticks(np.linspace(Defect.min(),Defect.max(),5));ax.set_yticks(np.linspace(Defect.min(),Defect.max(),5));\n",
    "PlotData()"
   ]
  },
  {
   "cell_type": "markdown",
   "metadata": {},
   "source": [
    "Differently from the previous section, a straight line is not a good choice for a decision boundary in this present case. An eleptical-like decision boundary would be better suited for the graph above. We might need to use the features x1 and x2 (related to test 1 and test 2 results, respectively) to design more features in order improve the shape of the decision boundary and, consequently, to improve the accuracy of our model.\n",
    "### Creating more features\n",
    "\n",
    "This code below provides a way to append new values to an array by using its existing entries w and z:"
   ]
  },
  {
   "cell_type": "code",
   "execution_count": 15,
   "metadata": {},
   "outputs": [
    {
     "name": "stdout",
     "output_type": "stream",
     "text": [
      "(1, 27)\n"
     ]
    },
    {
     "data": {
      "text/plain": [
       "array([[w, z, w**2, z**2, w**3, z**3, w**4, z**4, w**5, z**5, w**6, z**6,\n",
       "        w*z, w*z**2, w**2*z, w*z**3, w**2*z**2, w**3*z, w*z**4,\n",
       "        w**2*z**3, w**3*z**2, w**4*z, w*z**5, w**2*z**4, w**3*z**3,\n",
       "        w**4*z**2, w**5*z]], dtype=object)"
      ]
     },
     "execution_count": 15,
     "metadata": {},
     "output_type": "execute_result"
    }
   ],
   "source": [
    "import sympy                     # package for handling non-numerical mathematical variables\n",
    "w,z = sympy.symbols(('w', 'z')); # variables\n",
    "M = np.array([[w,z]]);           # initial array whose entries are w and z\n",
    "d=6                              # maximum degree of possible polinomial combinations\n",
    "for i in np.arange(1,d,1):\n",
    "    val1 = w**(i+1); val2 = z**(i+1)\n",
    "    M = np.append(M,np.array([[val1]]),axis=1); M = np.append(M,np.array([[val2]]),axis=1)\n",
    "for i in np.arange(1,d+1,1):\n",
    "    for j in np.arange(1,i,1):\n",
    "        val3 = (w**j) * (z**(i-j))\n",
    "        M = np.append(M,np.array([[val3]]),axis=1)\n",
    "print(M.shape)\n",
    "M"
   ]
  },
  {
   "cell_type": "markdown",
   "metadata": {},
   "source": [
    "The process of using the existing features to create new ones is called *Feature Mapping*. Following the idea shown above, the function below takes the 2 features of the initial training dataset X and multiply them in order to generate additional feautures. This multiplication is such that the hypothesis will be described by a polynomial of degree 6:"
   ]
  },
  {
   "cell_type": "code",
   "execution_count": 16,
   "metadata": {},
   "outputs": [
    {
     "data": {
      "text/plain": [
       "(118, 28)"
      ]
     },
     "execution_count": 16,
     "metadata": {},
     "output_type": "execute_result"
    }
   ],
   "source": [
    "# Feature mapping function for a 2x2 matrix X:\n",
    "def FM(X,d):\n",
    "    M = X\n",
    "    for n in range(X.shape[1]):\n",
    "        for i in np.arange(1,d,1):\n",
    "            vals = (X[:,n]**(i+1)).reshape(-1,1);\n",
    "            M = np.append(M,vals,axis=1)\n",
    "    for i in np.arange(1,d+1,1):\n",
    "        for j in np.arange(1,i,1):\n",
    "            vals = ((X[:,0]**j).reshape(-1,1))*((X[:,1]**(i-j)).reshape(-1,1)); \n",
    "            M = np.append(M,vals,axis=1)\n",
    "    return M\n",
    "# This is our initial input training set:\n",
    "X = dataset2[:,:2]\n",
    "# Our new input training set will be given by the extended matrix M generated\n",
    "# by the feature mapping function plus the x0 column which we insert by hand: \n",
    "M = FM(X,6)\n",
    "X = np.append(np.ones((m,1)), M, axis=1)\n",
    "X.shape"
   ]
  },
  {
   "cell_type": "markdown",
   "metadata": {},
   "source": [
    "A logistic regression classifier trained on this higher-dimension feature vector will have a more complex decision boundary and will appear nonlinear when drawn in our 2-dimensional plot. While the feature mapping allows us to build a more expressive classifier, it also more susceptible to overfitting. In the next parts of the exercise, we will implement regularized logistic regression to fit the data and also see for ourselves how regularization can help combat the overfitting problem.\n",
    "### Implementing regularized cost function \n",
    "\n",
    "Regularized cost function for logistic regression:\n",
    "\n",
    "$$\n",
    "J\\left(\\theta\\right)=-\\frac{1}{m}\\sum_{i=1}^{m}\\left[y^{(i)}log\\left(h_{\\theta}\\left(x^{(i)}\\right)\\right)+\\left(1-y^{(i)}\\right)log\\left(1-h_{\\theta}\\left(x^{(i)}\\right)\\right)\\right]+\\frac{\\lambda}{2m}\\sum_{j}^{k}\\theta_{j}^{*2},\n",
    "$$\n",
    "\n",
    "where $\\theta^{*}$ is equal to $\\theta$ but **excluding** $\\theta_{0}$. The gradient is:\n",
    "\\begin{align*}\n",
    "\\theta_{0} & =\\theta_{0}-\\alpha\\frac{1}{m}\\sum_{i=1}^{m}\\left(h_{\\theta}\\left(x^{\\left(i\\right)}\\right)-y^{\\left(i\\right)}\\right)x_{0}^{\\left(i\\right)}\\\\\n",
    "\\theta_{j} & =\\theta_{j}\\left(1-\\alpha\\frac{\\lambda}{m}\\right)-\\alpha\\frac{1}{m}\\sum_{i=1}^{m}\\left(h_{\\theta}\\left(x^{\\left(i\\right)}\\right)-y^{\\left(i\\right)}\\right)x_{j}^{\\left(i\\right)}\n",
    "\\end{align*}\n",
    "\n",
    "for $j\\neq0$."
   ]
  },
  {
   "cell_type": "code",
   "execution_count": 17,
   "metadata": {},
   "outputs": [],
   "source": [
    "# Regularized cost function:\n",
    "def costfunction_reg(theta,X,y,lamb):\n",
    "    theta = theta.reshape(-1,1)\n",
    "    sumtheta=0\n",
    "    for i in np.arange(1,len(theta),1):\n",
    "        sumtheta = sumtheta + theta[i]**2\n",
    "    h = 1/(1+np.exp(-MM(X,theta)))\n",
    "    J = -(1/m)*(MM(y.T,np.log(h))+MM((1-y.T),np.log(1-h)))+(lamb/(2*m))*sumtheta\n",
    "    thetamod = np.append([0],theta[1:len(theta)]).reshape(-1,1)\n",
    "    grad = ((1/m)*MM((X.T),(h-y))+(lamb/m)*thetamod).flatten()\n",
    "    return float(J), grad"
   ]
  },
  {
   "cell_type": "markdown",
   "metadata": {},
   "source": [
    "Let's now perform the tests proposed in the file ex2_reg.m. But for that, we're going to use the non-normalized matrix M that we obtained after performing the feature mapping."
   ]
  },
  {
   "cell_type": "code",
   "execution_count": 18,
   "metadata": {},
   "outputs": [
    {
     "name": "stdout",
     "output_type": "stream",
     "text": [
      "0.6931471805599453 [0.0085, 0.0188, 0.0001, 0.0503, 0.0184]\n",
      "3.16450933161501 [0.346, 0.1614, 0.1948, 0.2269, 0.1434]\n"
     ]
    }
   ],
   "source": [
    "theta = np.zeros((X.shape[1],1)); J, grad = costfunction_reg(theta,X,y,1);\n",
    "g1 = [np.round(float(i),4) for i in grad]; print(J, g1[:5])\n",
    "theta = np.ones((X.shape[1],1)); J, grad = costfunction_reg(theta,X,y,10);\n",
    "g2 = [np.round(float(i),4) for i in grad]; print(J, g2[:5])"
   ]
  },
  {
   "cell_type": "markdown",
   "metadata": {},
   "source": [
    "The results above agree with those shown in ex2_reg.m, with the exception of the last terms 0.0184 and 0.1434. The reason is: the order in which I added the extra features in my codes is different from that in the file mapFeature.m . The fifth value of the gradient of the cost function in that code is equivalent to the thirteenth value of my gradient function, as you can see below. Therefore, my results and those of ex2_reg.m are not equal but equivalent."
   ]
  },
  {
   "cell_type": "code",
   "execution_count": 19,
   "metadata": {},
   "outputs": [
    {
     "name": "stdout",
     "output_type": "stream",
     "text": [
      "0.0115 0.0922\n"
     ]
    }
   ],
   "source": [
    "print(g1[13], g2[13])"
   ]
  },
  {
   "cell_type": "markdown",
   "metadata": {},
   "source": [
    "### Learning parameters and plotting decision boundaries"
   ]
  },
  {
   "cell_type": "code",
   "execution_count": 20,
   "metadata": {},
   "outputs": [],
   "source": [
    "def PlotDecisionBoundary():\n",
    "    x1 = np.linspace(X[:,1].min()-0.1,X[:,1].max()+0.1,50); x2=x1; z = np.zeros((len(x1),len(x2)))\n",
    "    for i in range(len(x1)):\n",
    "        for j in range(len(x2)):\n",
    "            pair = np.array([[x1[i],x2[j]]]) # pair of points in the grid\n",
    "            xnew = FM(pair,6)                # feature mapping\n",
    "            x = np.append([[1]],xnew,axis=1) # adding the unit value\n",
    "            z[i,j] = MM(x,theta)\n",
    "    plt.contour(x1, x2, z.T, levels=[0]);"
   ]
  },
  {
   "cell_type": "markdown",
   "metadata": {},
   "source": [
    "Let's plot decision boundaries for different values of lambda: 0, 1 and 100."
   ]
  },
  {
   "cell_type": "code",
   "execution_count": 21,
   "metadata": {},
   "outputs": [
    {
     "data": {
      "image/png": "[encoded data removed]",
      "text/plain": [
       "<Figure size 432x288 with 1 Axes>"
      ]
     },
     "metadata": {
      "needs_background": "light"
     },
     "output_type": "display_data"
    }
   ],
   "source": [
    "lamb = 0\n",
    "initial_theta = np.zeros((X.shape[1]))\n",
    "optmin = optimize.minimize(costfunction_reg,initial_theta,(X,y,lamb),jac=True,method='TNC',options={'maxiter': 100})\n",
    "J = optmin.fun; theta = optmin.x\n",
    "\n",
    "PlotData()\n",
    "PlotDecisionBoundary()"
   ]
  },
  {
   "cell_type": "code",
   "execution_count": 22,
   "metadata": {},
   "outputs": [
    {
     "data": {
      "image/png": "[encoded data removed]",
      "text/plain": [
       "<Figure size 432x288 with 1 Axes>"
      ]
     },
     "metadata": {
      "needs_background": "light"
     },
     "output_type": "display_data"
    }
   ],
   "source": [
    "lamb = 1\n",
    "initial_theta = np.zeros((X.shape[1]))\n",
    "optmin = optimize.minimize(costfunction_reg,initial_theta,(X,y,lamb),jac=True,method='TNC',options={'maxiter': 100})\n",
    "J = optmin.fun; theta = optmin.x\n",
    "\n",
    "PlotData()\n",
    "PlotDecisionBoundary()"
   ]
  },
  {
   "cell_type": "code",
   "execution_count": 23,
   "metadata": {},
   "outputs": [
    {
     "data": {
      "image/png": "[encoded data removed]",
      "text/plain": [
       "<Figure size 432x288 with 1 Axes>"
      ]
     },
     "metadata": {
      "needs_background": "light"
     },
     "output_type": "display_data"
    }
   ],
   "source": [
    "lamb = 100\n",
    "initial_theta = np.zeros((X.shape[1]))\n",
    "optmin = optimize.minimize(costfunction_reg,initial_theta,(X,y,lamb),jac=True,method='TNC',options={'maxiter': 100})\n",
    "J = optmin.fun; theta = optmin.x\n",
    "\n",
    "PlotData()\n",
    "PlotDecisionBoundary()"
   ]
  },
  {
   "cell_type": "markdown",
   "metadata": {},
   "source": [
    "These different decision boundaries allow us to see how the choice of the regularization parameter lambda affects the accuracy of our result. For a null lambda, lamb=0, the model shows clear overfitting. On the other hand, if lalmbda is too large, lamb=100, the model underfits. The choice lamb=1 seems to be a good one.<br>\n",
    "OBS: I also noticed that by changing the maximim number of iterations in optimize.minimize() the accuracy of the model can also be affected."
   ]
  },
  {
   "cell_type": "markdown",
   "metadata": {},
   "source": [
    "### Prediction"
   ]
  },
  {
   "cell_type": "code",
   "execution_count": 24,
   "metadata": {},
   "outputs": [],
   "source": [
    "# Good choice for lambda:\n",
    "lamb = 1\n",
    "initial_theta = np.zeros((X.shape[1]))\n",
    "optmin = optimize.minimize(costfunction_reg,initial_theta,(X,y,lamb),jac=True,method='TNC',options={'maxiter': 100})\n",
    "J = optmin.fun; theta = optmin.x\n",
    "\n",
    "p = prediction(theta,X)"
   ]
  },
  {
   "cell_type": "code",
   "execution_count": 25,
   "metadata": {},
   "outputs": [
    {
     "data": {
      "text/plain": [
       "0.83"
      ]
     },
     "execution_count": 25,
     "metadata": {},
     "output_type": "execute_result"
    }
   ],
   "source": [
    "# Accuracy score:\n",
    "np.mean(p == y).round(2)"
   ]
  },
  {
   "cell_type": "markdown",
   "metadata": {},
   "source": [
    "This means our model got 83% of the results in the training set right. This agrees with file ex2_reg.m .\n",
    "\n",
    "End of the exercise 2."
   ]
  },
  {
   "cell_type": "code",
   "execution_count": null,
   "metadata": {},
   "outputs": [],
   "source": []
  }
 ],
 "metadata": {
  "kernelspec": {
   "display_name": "Python 3",
   "language": "python",
   "name": "python3"
  },
  "language_info": {
   "codemirror_mode": {
    "name": "ipython",
    "version": 3
   },
   "file_extension": ".py",
   "mimetype": "text/x-python",
   "name": "python",
   "nbconvert_exporter": "python",
   "pygments_lexer": "ipython3",
   "version": "3.7.6"
  }
 },
 "nbformat": 4,
 "nbformat_minor": 4
}
